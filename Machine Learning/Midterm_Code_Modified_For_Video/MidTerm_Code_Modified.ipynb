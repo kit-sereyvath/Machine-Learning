{
  "nbformat": 4,
  "nbformat_minor": 0,
  "metadata": {
    "colab": {
      "name": "MidTerm_Code_Modified.ipynb",
      "provenance": []
    },
    "kernelspec": {
      "name": "python3",
      "display_name": "Python 3"
    },
    "language_info": {
      "name": "python"
    }
  },
  "cells": [
    {
      "cell_type": "code",
      "execution_count": null,
      "metadata": {
        "id": "KUUzSM8_LIvW"
      },
      "outputs": [],
      "source": [
        "import sklearn\n",
        "import numpy as np\n",
        "import pandas as pd\n",
        "import matplotlib.pyplot as plt\n",
        "from sklearn import datasets\n",
        "from sklearn.model_selection import train_test_split\n",
        "from sklearn.linear_model import LinearRegression\n",
        "import math"
      ]
    },
    {
      "cell_type": "markdown",
      "source": [
        "b. Please download the 2021(Jan to Dec month) dataset of your assigned company from yahoo finance."
      ],
      "metadata": {
        "id": "_EHEz8n_vb7P"
      }
    },
    {
      "cell_type": "code",
      "source": [
        "dataset = pd.read_csv('JPM.csv')"
      ],
      "metadata": {
        "id": "-d2u5JddRN0E"
      },
      "execution_count": null,
      "outputs": []
    },
    {
      "cell_type": "markdown",
      "source": [
        "c. Clean the dataset"
      ],
      "metadata": {
        "id": "paoaIrGXvigA"
      }
    },
    {
      "cell_type": "code",
      "source": [
        "dataset.isnull().sum() / len(dataset)\n",
        "# the result show that none of the data is null"
      ],
      "metadata": {
        "colab": {
          "base_uri": "https://localhost:8080/"
        },
        "id": "lR2mSw7DRiry",
        "outputId": "04b9b2c8-ed3a-4b5b-9c25-393a121234ad"
      },
      "execution_count": null,
      "outputs": [
        {
          "output_type": "execute_result",
          "data": {
            "text/plain": [
              "Date         0.0\n",
              "Open         0.0\n",
              "High         0.0\n",
              "Low          0.0\n",
              "Close        0.0\n",
              "Adj Close    0.0\n",
              "Volume       0.0\n",
              "dtype: float64"
            ]
          },
          "metadata": {},
          "execution_count": 19
        }
      ]
    },
    {
      "cell_type": "code",
      "source": [
        "print(dataset.describe())\n",
        "# the result show that the data are in correct form"
      ],
      "metadata": {
        "id": "iP-lolzsxJ2v",
        "colab": {
          "base_uri": "https://localhost:8080/"
        },
        "outputId": "c7faf3e0-926c-44c7-8396-86b34048d12c"
      },
      "execution_count": null,
      "outputs": [
        {
          "output_type": "stream",
          "name": "stdout",
          "text": [
            "             Open        High         Low       Close   Adj Close  \\\n",
            "count  251.000000  251.000000  251.000000  251.000000  251.000000   \n",
            "mean   155.603267  157.066494  154.191673  155.601514  152.224399   \n",
            "std      9.772108    9.648095    9.675501    9.592643   10.086678   \n",
            "min    124.989998  126.300003  123.769997  125.650002  121.156876   \n",
            "25%    151.819999  153.404998  150.315002  151.549995  148.028053   \n",
            "50%    156.050003  157.460007  155.110001  156.279999  153.036926   \n",
            "75%    161.880005  163.440002  160.430001  161.625000  158.636429   \n",
            "max    172.710007  172.960007  170.539993  171.779999  169.500061   \n",
            "\n",
            "             Volume  \n",
            "count  2.510000e+02  \n",
            "mean   1.293390e+07  \n",
            "std    5.340585e+06  \n",
            "min    5.815300e+06  \n",
            "25%    9.647950e+06  \n",
            "50%    1.219360e+07  \n",
            "75%    1.436195e+07  \n",
            "max    5.441880e+07  \n"
          ]
        }
      ]
    },
    {
      "cell_type": "markdown",
      "source": [
        "d. Fill the missing values of the dataset using the average of column “Low “ from the dataset."
      ],
      "metadata": {
        "id": "0WeDPghHvoPR"
      }
    },
    {
      "cell_type": "code",
      "source": [
        "# Since there is no missing value, There is no need to fill the missing value."
      ],
      "metadata": {
        "id": "_Wjg1hIsYDQS"
      },
      "execution_count": null,
      "outputs": []
    },
    {
      "cell_type": "markdown",
      "source": [
        "e. Find the missing percent of each column"
      ],
      "metadata": {
        "id": "rkXoQ5KpvrnT"
      }
    },
    {
      "cell_type": "code",
      "source": [
        "dataset.isnull().sum() / len(dataset)\n",
        "\n",
        "# The result show that there is no missing value."
      ],
      "metadata": {
        "colab": {
          "base_uri": "https://localhost:8080/"
        },
        "id": "Y1j6UiyRY5HQ",
        "outputId": "3ec95192-08bf-4353-e902-8e9ba1eb2d14"
      },
      "execution_count": null,
      "outputs": [
        {
          "output_type": "execute_result",
          "data": {
            "text/plain": [
              "Date         0.0\n",
              "Open         0.0\n",
              "High         0.0\n",
              "Low          0.0\n",
              "Close        0.0\n",
              "Adj Close    0.0\n",
              "Volume       0.0\n",
              "dtype: float64"
            ]
          },
          "metadata": {},
          "execution_count": 21
        }
      ]
    },
    {
      "cell_type": "markdown",
      "source": [
        "g. Build a multiple linear regression model to predict the closing price using the volume, low and high price of the dataset"
      ],
      "metadata": {
        "id": "PKIf6w88vv4G"
      }
    },
    {
      "cell_type": "code",
      "source": [
        "x_variable = ['Volume', 'Low', 'High']\n",
        "y_variable = ['Close']\n",
        "\n",
        "x = np.array(dataset[x_variable]).reshape(-1, 3)\n",
        "y = np.array(dataset[y_variable]).reshape(-1, 1)\n",
        "\n",
        "x_train, x_test, y_train, y_test = train_test_split(x, y, test_size=0.2)\n",
        "\n",
        "Lin_reg = LinearRegression() \n",
        "\n",
        "model = Lin_reg.fit(x_train, y_train)\n",
        "\n",
        "# print(model.intercept_)\n",
        "# print(model.coef_)"
      ],
      "metadata": {
        "id": "5WtpscKzZ1hx"
      },
      "execution_count": null,
      "outputs": []
    },
    {
      "cell_type": "markdown",
      "source": [
        "h. Predict the exact closing price of anyone of the given input. Decide the input values by yourself as relevant to the dataset."
      ],
      "metadata": {
        "id": "D5dRDp1Zv2Pd"
      }
    },
    {
      "cell_type": "code",
      "source": [
        "x_pred = np.array([16819900, 124.779999, 127.860001]) \n",
        "x_pred = x_pred.reshape(-1, 3)\n",
        "\n",
        "y_pred = model.predict(x_pred)\n",
        "print(y_pred)\n",
        "\n",
        "# y_real = 121.156 - 126.647 = -5.42"
      ],
      "metadata": {
        "colab": {
          "base_uri": "https://localhost:8080/"
        },
        "id": "vfT6NrXQTFb3",
        "outputId": "313e6d17-d972-49a8-94c9-7b8f1d2e2f32"
      },
      "execution_count": null,
      "outputs": [
        {
          "output_type": "stream",
          "name": "stdout",
          "text": [
            "[[126.64766186]]\n"
          ]
        }
      ]
    },
    {
      "cell_type": "markdown",
      "source": [
        "i. Use any one of the evaluation models to justify your predicted result."
      ],
      "metadata": {
        "id": "dkOXGLVBv7VE"
      }
    },
    {
      "cell_type": "code",
      "source": [
        "y_predict = model.predict(x_test)\n",
        "# R2\n",
        "r2 = sklearn.metrics.r2_score(y_test, y_predict)\n",
        "print(r2)\n"
      ],
      "metadata": {
        "colab": {
          "base_uri": "https://localhost:8080/"
        },
        "id": "Kg-_WQn_cHDj",
        "outputId": "1cb78273-eed2-4b67-987e-7bfb1295b9f2"
      },
      "execution_count": null,
      "outputs": [
        {
          "output_type": "stream",
          "name": "stdout",
          "text": [
            "0.9939355830100653\n"
          ]
        }
      ]
    },
    {
      "cell_type": "markdown",
      "source": [
        "j. I think the model I just train is really efficient since the r2 value is really close to 1. It can also predict a value that different from the real value by around 5 only which is around 4%. I believe this is due to a good dataset. So having a good dataset can ensure that I can produce a very efficient regression model. And with an efficent model, I can predict future value that is very close to the real value."
      ],
      "metadata": {
        "id": "eBUo70MV2f6W"
      }
    }
  ]
}